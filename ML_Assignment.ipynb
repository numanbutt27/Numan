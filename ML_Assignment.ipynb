{
  "nbformat": 4,
  "nbformat_minor": 0,
  "metadata": {
    "colab": {
      "provenance": [],
      "collapsed_sections": []
    },
    "kernelspec": {
      "name": "python3",
      "display_name": "Python 3"
    },
    "language_info": {
      "name": "python"
    }
  },
  "cells": [
    {
      "cell_type": "code",
      "execution_count": null,
      "metadata": {
        "id": "UMqy-fB2Je8H"
      },
      "outputs": [],
      "source": [
        "import numpy as np\n",
        "arr=np.random.rand(100,2)\n",
        "array=[];\n",
        "for i in range(0,99):\n",
        "  for j in range(0,99):\n",
        "    dist=((arr[i][0]-arr[j][0])**2+(arr[i][1]-arr[j][1])**2)**0.5\n",
        "    array.append(dist)\n",
        "print(\"-------------------\");\n",
        "#PART 2\n",
        "#By using Vactorization\n",
        "x = np.random.normal(size=(30,2))\n",
        "from scipy.spatial import distance_matrix\n",
        "dist1=distance_matrix(x,x);\n",
        "print(dist1);\n",
        "#PART 3\n",
        "print(\"Time Complexity For Vactorization:\");\n",
        "%timeit dist1;\n",
        "print(\"Time Complexity For Loops:\");\n",
        "%timeit array.append(dist);\n",
        "\n"
      ]
    },
    {
      "cell_type": "code",
      "source": [],
      "metadata": {
        "id": "JcSo3DxjCwca"
      },
      "execution_count": null,
      "outputs": []
    }
  ]
}